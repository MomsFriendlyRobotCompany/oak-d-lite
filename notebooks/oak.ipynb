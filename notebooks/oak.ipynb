{
 "cells": [
  {
   "cell_type": "markdown",
   "id": "8bbf7dc6-576d-43d1-bbf2-6ed25a085143",
   "metadata": {},
   "source": [
    "# Oak-D Lite\n",
    "\n",
    "- P: projection matrix, transforms world to camera frame\n",
    "- K: camera intrinsics matrix\n",
    "- [R|t]: extrinsics matrix\n",
    "\n",
    "$$\n",
    "\\begin{align}\n",
    "\\begin{bmatrix} u \\\\ v \\\\ 1 \\end{bmatrix} &= P \\begin{bmatrix} X_w \\\\ Y_w \\\\ Z_w \\\\ 1 \\end{bmatrix}\\\\\n",
    "P &= KI[R|t] \\\\\n",
    "\\text{Extrinsics ([R|t])} &= \\left [ \\begin{matrix} r_{00} & r_{01} & r_{02} & T_x \\\\ r_{10} & r_{11} & r_{12} & T_y \\\\ r_{20} & r_{21} & r_{22} & T_z \\\\ 0 & 0 & 0 & 1 \\end{matrix} \\right ] \\\\\n",
    "I &= \\begin{bmatrix}\n",
    "1 & 0 & 0 & 0 \\\\\n",
    "0 & 1 & 0 & 0 \\\\\n",
    "0 & 0 & 1 & 0 \\\\\n",
    "\\end{bmatrix} \\\\\n",
    "\\text{Intrinsic Matrix (K)} &= \\left [ \\begin{matrix} f_x & 0 & c_x \\\\ 0 & f_y & c_y \\\\ 0 & 0 & 1 \\end{matrix} \\right ] \\\\\n",
    "\\end{align}\n",
    "$$\n",
    "\n",
    "## Calibration Data\n",
    "\n",
    "```python\n",
    "device = dai.Device()\n",
    "calibData = device.readCalibration()\n",
    "json = calibData.eepromToJson()\n",
    "```\n",
    "\n",
    "Other functions for `calibData`:\n",
    "\n",
    " - `calibData.eepromToJson()`\n",
    " - `calibData.eepromToJsonFile()`\n",
    " - `calibData.fromJson()`\n",
    " - `calibData.getBaselineDistance(1,2)`: distance from camera 1 (origin) to camera 2\n",
    " - `calibData.getCameraExtrinsics(1,2)`: matrix (4x4) from camera 1 (origin) to camera 2\n",
    " - `calibData.getCameraIntrinsics()`: camera K matrix\n",
    " - `calibData.getCameraToImuExtrinsics()`\n",
    " - `calibData.getCameraTranslationVector()`\n",
    " - `calibData.getDefaultIntrinsics()`\n",
    " - `calibData.getDistortionCoefficients()`\n",
    " - `calibData.getDistortionModel()`\n",
    " - `calibData.getEepromData()`\n",
    " - `calibData.getFov(1)`: field of view for camera 1\n",
    " - `calibData.getImuToCameraExtrinsics()`\n",
    " - `calibData.getLensPosition()`\n",
    " - `calibData.getStereoLeftCameraId()`: get camera identifier (e.g., `dai.CameraBoardSocket.CAM_A`) for left stereo caemra\n",
    " - `calibData.getStereoLeftRectificationRotation()`: get camera rotation matrix (3x3)\n",
    " - `calibData.getStereoRightCameraId()`: get camera identifier for right stereo camera\n",
    " - `calibData.getStereoRightRectificationRotation()`: get camera rotation matrix (3x3)\n",
    "\n",
    "## Distortion\n",
    "\n",
    "`calibData.getDistortionCoefficients()` returns: [`k1`,`k2`,`p1`,`p2`,`k3`,`k4`,`k5`,`k6`,`s1`,`s2`,`s3`,`s4`,`τx`,`τy`]\n",
    "\n",
    "\n"
   ]
  },
  {
   "cell_type": "code",
   "execution_count": 1,
   "id": "257a9a4c-74f5-44bc-a2f2-f0dd121745a4",
   "metadata": {},
   "outputs": [],
   "source": [
    "%load_ext autoreload\n",
    "%autoreload 2"
   ]
  },
  {
   "cell_type": "code",
   "execution_count": 2,
   "id": "3011d030-0f19-483d-a156-43361f6216d5",
   "metadata": {},
   "outputs": [],
   "source": [
    "import depthai as dai\n",
    "import numpy as np\n",
    "# from pprint import pprint\n",
    "# from collections import namedtuple\n",
    "np.set_printoptions(suppress=True)\n",
    "np.set_printoptions(precision=3)\n",
    "from oaklib import *\n",
    "# import yaml\n",
    "# from dataclasses import dataclass\n",
    "# from colorama import Fore"
   ]
  },
  {
   "cell_type": "code",
   "execution_count": 3,
   "id": "6e2cb5bd-8b0b-4a5e-9dde-5dcf6722113a",
   "metadata": {},
   "outputs": [],
   "source": [
    "# params = save_camera_params(\"oak.yml\")"
   ]
  },
  {
   "cell_type": "code",
   "execution_count": 4,
   "id": "e2b4f2d6-dcdd-4a78-844a-b10081196fed",
   "metadata": {},
   "outputs": [
    {
     "name": "stdout",
     "output_type": "stream",
     "text": [
      "Oak Camera Save -------------------\n",
      " Location: move\n",
      " Images: 1000\n",
      " IMU: 6000\n",
      "\u001b[34mLeft \u001b[34mCamera[480,640]----------------------\u001b[39m\n",
      "  focalLength(x,y): 452.3 452.5 px \n",
      "  principlePoint(x,y): 330.4 255.6 px\n",
      "  distortionCoeffs: [-0.293 -5.79  -0.     0.001  6.169 -0.353 -5.614  6.038  0.     0.\n",
      "  0.     0.     0.     0.   ]\n",
      "  FOVH: 72.9000015258789\n",
      "  Rotation: \n",
      "    [[ 1.     0.009 -0.017]\n",
      "     [-0.009  1.     0.008]\n",
      "     [ 0.017 -0.008  1.   ]]\n",
      "  Translation: \n",
      "    [[-7.528]\n",
      "     [ 0.026]\n",
      "     [-0.051]]\n",
      "  Distortion\n",
      "    Radial: -0.293 -5.790 6.169 -0.353 -5.614 6.038\n",
      "    Tangental: -0.000 0.001\n",
      "    Other: 0.000 0.000 0.000 0.000 0.000 0.000\n",
      "\u001b[34mRight \u001b[34mCamera[480,640]----------------------\u001b[39m\n",
      "  focalLength(x,y): 454.6 454.2 px \n",
      "  principlePoint(x,y): 314.0 256.0 px\n",
      "  distortionCoeffs: [-1.709 -0.871  0.    -0.001  2.057 -1.731 -0.814  2.02   0.     0.\n",
      "  0.     0.     0.     0.   ]\n",
      "  FOVH: 72.9000015258789\n",
      "  Rotation: \n",
      "    [[ 1.    -0.004  0.006]\n",
      "     [ 0.004  1.    -0.005]\n",
      "     [-0.006  0.005  1.   ]]\n",
      "  Translation: \n",
      "    [[ 3.77 ]\n",
      "     [-0.02 ]\n",
      "     [-0.169]]\n",
      "  Distortion\n",
      "    Radial: -1.709 -0.871 2.057 -1.731 -0.814 2.020\n",
      "    Tangental: 0.000 -0.001\n",
      "    Other: 0.000 0.000 0.000 0.000 0.000 0.000\n",
      "  \n"
     ]
    }
   ],
   "source": [
    "imgs, imu, caminfo = load_oak(\"move\")\n",
    "print(caminfo)"
   ]
  },
  {
   "cell_type": "code",
   "execution_count": 5,
   "id": "f4570171-9a61-430b-bf69-a23c43b3b2b1",
   "metadata": {},
   "outputs": [
    {
     "name": "stdout",
     "output_type": "stream",
     "text": [
      "\u001b[34mLeft \u001b[34mCamera[480,640]----------------------\u001b[39m\n",
      "  focalLength(x,y): 452.3 452.5 px \n",
      "  principlePoint(x,y): 330.4 255.6 px\n",
      "  distortionCoeffs: [-0.293 -5.79  -0.     0.001  6.169 -0.353 -5.614  6.038  0.     0.\n",
      "  0.     0.     0.     0.   ]\n",
      "  FOVH: 72.9000015258789\n",
      "  Rotation: \n",
      "    [[ 1.     0.009 -0.017]\n",
      "     [-0.009  1.     0.008]\n",
      "     [ 0.017 -0.008  1.   ]]\n",
      "  Translation: \n",
      "    [[-7.528]\n",
      "     [ 0.026]\n",
      "     [-0.051]]\n",
      "  Distortion\n",
      "    Radial: -0.293 -5.790 6.169 -0.353 -5.614 6.038\n",
      "    Tangental: -0.000 0.001\n",
      "    Other: 0.000 0.000 0.000 0.000 0.000 0.000\n",
      "\u001b[34mRight \u001b[34mCamera[480,640]----------------------\u001b[39m\n",
      "  focalLength(x,y): 454.6 454.2 px \n",
      "  principlePoint(x,y): 314.0 256.0 px\n",
      "  distortionCoeffs: [-1.709 -0.871  0.    -0.001  2.057 -1.731 -0.814  2.02   0.     0.\n",
      "  0.     0.     0.     0.   ]\n",
      "  FOVH: 72.9000015258789\n",
      "  Rotation: \n",
      "    [[ 1.    -0.004  0.006]\n",
      "     [ 0.004  1.    -0.005]\n",
      "     [-0.006  0.005  1.   ]]\n",
      "  Translation: \n",
      "    [[ 3.77 ]\n",
      "     [-0.02 ]\n",
      "     [-0.169]]\n",
      "  Distortion\n",
      "    Radial: -1.709 -0.871 2.057 -1.731 -0.814 2.020\n",
      "    Tangental: 0.000 -0.001\n",
      "    Other: 0.000 0.000 0.000 0.000 0.000 0.000\n",
      "  \n"
     ]
    }
   ],
   "source": [
    "c = OakCameraInfo(\"oak.yml\")\n",
    "print(c)"
   ]
  },
  {
   "cell_type": "code",
   "execution_count": 9,
   "id": "10dc7ccd-bbec-4f98-8184-77a035a42579",
   "metadata": {},
   "outputs": [],
   "source": [
    "# np.hstack((c.left.R,c.left.t))"
   ]
  },
  {
   "cell_type": "code",
   "execution_count": null,
   "id": "a116aa49-985b-408a-9c97-a9971efeeb64",
   "metadata": {},
   "outputs": [],
   "source": []
  },
  {
   "cell_type": "code",
   "execution_count": null,
   "id": "d80cc5f9-fc2e-4e6a-9e81-cd47207a96f6",
   "metadata": {},
   "outputs": [],
   "source": []
  },
  {
   "cell_type": "code",
   "execution_count": 12,
   "id": "3d61cc90-2b36-4fb1-a8df-f8e59ca3c3f2",
   "metadata": {},
   "outputs": [],
   "source": [
    "# k = camera.calibData.getCameraExtrinsics(dai.CameraBoardSocket.CAM_B,dai.CameraBoardSocket.CAM_C)\n",
    "# np.array(k)\n",
    "# camera.calibData.getCameraIntrinsics(dai.CameraBoardSocket.CAM_B)"
   ]
  },
  {
   "cell_type": "code",
   "execution_count": 13,
   "id": "efec82eb-9f36-4902-83d3-fdfeeb716e77",
   "metadata": {},
   "outputs": [],
   "source": [
    "# camera.calibData.getCameraToImuExtrinsics(dai.CameraBoardSocket.CAM_A)"
   ]
  },
  {
   "cell_type": "code",
   "execution_count": 14,
   "id": "11eb0d0c-9ec1-4789-b92e-76c871141e0a",
   "metadata": {},
   "outputs": [],
   "source": [
    "# camera.calibData.getStereoLeftCameraId()"
   ]
  },
  {
   "cell_type": "code",
   "execution_count": 15,
   "id": "74b02258-fe85-4434-87ed-ff14631dd405",
   "metadata": {},
   "outputs": [],
   "source": [
    "# camera.calibData.getFov(camera.calibData.getStereoLeftCameraId())"
   ]
  },
  {
   "cell_type": "code",
   "execution_count": 16,
   "id": "10a688c1-2745-4b8a-b036-bc5a00113344",
   "metadata": {},
   "outputs": [],
   "source": [
    "# camera.calibData.getStereoLeftRectificationRotation()"
   ]
  },
  {
   "cell_type": "code",
   "execution_count": 17,
   "id": "e4f767fd-81ed-4b8a-9cf9-e1bcc0496cfe",
   "metadata": {},
   "outputs": [],
   "source": [
    "# camera.calibData.getLensPosition(dai.CameraBoardSocket.CAM_A)"
   ]
  },
  {
   "cell_type": "code",
   "execution_count": 18,
   "id": "b4095813-ac34-460d-a919-be522a9ff920",
   "metadata": {},
   "outputs": [],
   "source": [
    "# camera.json"
   ]
  },
  {
   "cell_type": "code",
   "execution_count": 19,
   "id": "2c71f1fa-b441-47ce-bc85-ec71f77d071d",
   "metadata": {},
   "outputs": [],
   "source": [
    "# camera.calibData.getDistortionCoefficients(dai.CameraBoardSocket.CAM_A)"
   ]
  },
  {
   "cell_type": "code",
   "execution_count": null,
   "id": "c951f281-6ab1-4984-b273-d7a1a7668c46",
   "metadata": {},
   "outputs": [],
   "source": []
  }
 ],
 "metadata": {
  "kernelspec": {
   "display_name": "Python 3 (ipykernel)",
   "language": "python",
   "name": "python3"
  },
  "language_info": {
   "codemirror_mode": {
    "name": "ipython",
    "version": 3
   },
   "file_extension": ".py",
   "mimetype": "text/x-python",
   "name": "python",
   "nbconvert_exporter": "python",
   "pygments_lexer": "ipython3",
   "version": "3.13.0"
  }
 },
 "nbformat": 4,
 "nbformat_minor": 5
}
